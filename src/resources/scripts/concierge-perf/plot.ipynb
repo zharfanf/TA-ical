{
 "cells": [
  {
   "cell_type": "code",
   "execution_count": 1,
   "id": "f891186a",
   "metadata": {},
   "outputs": [],
   "source": [
    "import pandas as pd\n",
    "import numpy as np\n",
    "import os\n",
    "import csv\n",
    "import shutil\n",
    "from statistics import median, mean, stdev\n",
    "from math import sqrt\n",
    "import matplotlib.pyplot as plt"
   ]
  },
  {
   "cell_type": "code",
   "execution_count": 2,
   "id": "51dee599",
   "metadata": {},
   "outputs": [],
   "source": [
    "def get_combination(directory, name):\n",
    "    combs = []\n",
    "    data1 = open(f\"./{directory}/{name}-1.csv\").readlines()\n",
    "    data2 = open(f\"./{directory}/{name}-2.csv\").readlines()\n",
    "    data3 = open(f\"./{directory}/{name}-3.csv\").readlines()\n",
    "    for i in range(len(data1)):\n",
    "        temp1 = data1[i].strip().split()\n",
    "        temp2 = data2[i].strip().split()\n",
    "        temp3 = data3[i].strip().split()\n",
    "        maxBw = max([int(float(temp1[2])), int(float(temp2[2])), int(float(temp3[2]))])//3\n",
    "        key = f\"consistency({maxBw}, {temp1[-1]}, {temp1[0]} {temp2[0]} {temp3[0]})\"\n",
    "        combs.append(key)\n",
    "    return combs"
   ]
  },
  {
   "cell_type": "code",
   "execution_count": 3,
   "id": "75980b7f",
   "metadata": {},
   "outputs": [],
   "source": [
    "def read_segmental(parent_path, path, num_app, mode, monitor_interval, isLatency):\n",
    "    file_path = parent_path + path\n",
    "    framesData = {\"1\": [], \"2\": [], \"3\":[]}\n",
    "    reference = np.array([])\n",
    "    for appNum in range(1,num_app+1):\n",
    "        with open(\"%s-%d.csv\" %(file_path, appNum), \"r\") as csv_file:\n",
    "            data_reader = csv.reader(csv_file)\n",
    "            for line in data_reader:\n",
    "                data_temp = np.array(line, dtype=np.double)\n",
    "                framesData[str(appNum)].append(data_temp)\n",
    "        framesData[str(appNum)] = np.array(framesData[str(appNum)])\n",
    "    return framesData"
   ]
  },
  {
   "cell_type": "code",
   "execution_count": 4,
   "id": "2ee6b293",
   "metadata": {},
   "outputs": [],
   "source": [
    "def read_f1_score(directory):\n",
    "    # start = 0 if directory != \"heatmap-dds_accSen-multi-5\" else 118\n",
    "    start = 0\n",
    "    f1s = []\n",
    "    data1 = open(f\"./{directory}/f1Score-1.csv\").readlines()\n",
    "    data2 = open(f\"./{directory}/f1Score-2.csv\").readlines()\n",
    "    data3 = open(f\"./{directory}/f1Score-3.csv\").readlines()\n",
    "    for i in range(start, len(data1)):\n",
    "        temp1 = data1[i].strip()\n",
    "        temp2 = data2[i].strip()\n",
    "        temp3 = data3[i].strip()\n",
    "        average = sum([float(temp1), float(temp2), float(temp3)])/3\n",
    "        f1s.append(average)\n",
    "    return f1s"
   ]
  },
  {
   "cell_type": "code",
   "execution_count": 5,
   "id": "f9afb798",
   "metadata": {},
   "outputs": [],
   "source": [
    "def process_data(combinations_inferDiff, f1s_inferDiff, combinations_10s, f1s_10s, combinations_fair, f1s_fair):\n",
    "    inferDiffDict = {}\n",
    "    fairAllocDict = {}\n",
    "    first10sDict = {}\n",
    "    for i in range(len(f1s_fair)):\n",
    "        fairAllocDict[combinations_fair[i]] = f1s_fair[i]\n",
    "    for i in range(len(f1s_10s)):\n",
    "        first10sDict[combinations_10s[i]] = f1s_10s[i]\n",
    "    for i in range(len(f1s_inferDiff)):\n",
    "        if combinations_inferDiff[i] in inferDiffDict.keys():\n",
    "            inferDiffDict[combinations_inferDiff[i]].append(f1s_inferDiff[i])\n",
    "        else:\n",
    "            inferDiffDict[combinations_inferDiff[i]] = [f1s_inferDiff[i]]\n",
    "    for key in inferDiffDict.keys():\n",
    "        inferDiffDict[key] = max(inferDiffDict[key])\n",
    "        \n",
    "    inferDiffDict_bw = {}\n",
    "    fairAllocDict_bw = {}\n",
    "    first10sDict_bw = {}\n",
    "#     bandwidth = [str(i) for i in [3000, 4500, 5400, 6000]]\n",
    "#     bandwidth = [str(i) for i in [1500, 3000, 4500, 5400]]\n",
    "    bandwidth = [f\"{i}\" for i in range(900, 1500, 150)]\n",
    "    for bw in bandwidth:\n",
    "        for key in combinations_fair:\n",
    "            if bw in key:\n",
    "                if bw not in inferDiffDict_bw.keys():\n",
    "                    inferDiffDict_bw[bw] = [inferDiffDict[key]]\n",
    "                    fairAllocDict_bw[bw] = [fairAllocDict[key]]\n",
    "                    first10sDict_bw[bw] = [first10sDict[key]]\n",
    "                else:\n",
    "                    inferDiffDict_bw[bw].append(inferDiffDict[key])\n",
    "                    fairAllocDict_bw[bw].append(fairAllocDict[key])\n",
    "                    first10sDict_bw[bw].append(first10sDict[key])\n",
    "    for bw in bandwidth:\n",
    "        inferDiffDict_bw[bw] = mean(inferDiffDict_bw[bw])\n",
    "        fairAllocDict_bw[bw] = mean(fairAllocDict_bw[bw])\n",
    "        first10sDict_bw[bw] = mean(first10sDict_bw[bw])\n",
    "    return (inferDiffDict_bw, fairAllocDict_bw, first10sDict_bw)"
   ]
  },
  {
   "cell_type": "code",
   "execution_count": 6,
   "id": "bf3b6941",
   "metadata": {},
   "outputs": [
    {
     "data": {
      "image/png": "[encoded data removed]",
      "text/plain": [
       "<Figure size 200x120 with 1 Axes>"
      ]
     },
     "metadata": {},
     "output_type": "display_data"
    }
   ],
   "source": [
    "# DDS\n",
    "# combinations_dds_inferDiff = get_combination(\"dds-inferdiff-cat-multi-4-80\", \"sanityCheck\")\n",
    "# f1s_dds_inferDiff = np.array(read_f1_score(\"dds-inferdiff-cat-multi-4-80\"))\n",
    "# combinations_10s = get_combination(\"baseline-cat-80\", \"sanityCheck\")\n",
    "# f1s_10s = np.array(read_f1_score(\"baseline-cat-80\"))\n",
    "# combinations_fair = get_combination(\"fair-alloc-cat-80\", \"sanityCheck\")\n",
    "# f1s_fair = np.array(read_f1_score(\"fair-alloc-cat-80\"))\n",
    "\n",
    "combinations_dds_inferDiff = get_combination(\"dds-new-cat-inferdiff\", \"sanityCheck\")\n",
    "f1s_dds_inferDiff = np.array(read_f1_score(\"dds-new-cat-inferdiff\"))\n",
    "combinations_10s = get_combination(\"dds-new-cat-baseline\", \"sanityCheck\")\n",
    "f1s_10s = np.array(read_f1_score(\"dds-new-cat-baseline\"))\n",
    "combinations_fair = get_combination(\"dds-new-cat-fairAlloc\", \"sanityCheck\")\n",
    "f1s_fair = np.array(read_f1_score(\"dds-new-cat-fairAlloc\"))\n",
    "\n",
    "# combinations_dds_inferDiff = get_combination(\"aws-new-cat-inferdiff\", \"sanityCheck\")\n",
    "# f1s_dds_inferDiff = np.array(read_f1_score(\"aws-new-cat-inferdiff\"))\n",
    "# combinations_10s = get_combination(\"aws-new-cat-baseline\", \"sanityCheck\")\n",
    "# f1s_10s = np.array(read_f1_score(\"aws-new-cat-baseline\"))\n",
    "# combinations_fair = get_combination(\"aws-new-cat-fairAlloc\", \"sanityCheck\")\n",
    "# f1s_fair = np.array(read_f1_score(\"aws-new-cat-fairAlloc\"))\n",
    "\n",
    "# AWStream\n",
    "# combinations_aws_inferDiff = get_combination(\"aws_inferDiff-old-multi-5-50\", \"sanityCheck\")\n",
    "# f1s_aws_inferDiff = np.array(read_f1_score(\"aws_inferDiff-old-multi-5-50\"))\n",
    "# combinations_aws_10s = get_combination(\"aws_baseline-old-50\", \"sanityCheck\")\n",
    "# f1s_aws_10s = np.array(read_f1_score(\"aws_baseline-old-50\"))\n",
    "# combinations_aws_fair = get_combination(\"aws_fair-alloc-old-50\", \"sanityCheck\")\n",
    "# f1s_aws_fair = np.array(read_f1_score(\"aws_fair-alloc-old-50\"))\n",
    "# combinations_dds_inferDiff = get_combination(\"aws-inferdiff-cat-multi-5-80\", \"sanityCheck\")\n",
    "# f1s_dds_inferDiff = np.array(read_f1_score(\"aws-inferdiff-cat-multi-5-80\"))\n",
    "# combinations_10s = get_combination(\"aws-baseline-cat\", \"sanityCheck\")\n",
    "# f1s_10s = np.array(read_f1_score(\"aws-baseline-cat\"))\n",
    "# combinations_fair = get_combination(\"aws-fair-alloc-cat\", \"sanityCheck\")\n",
    "# f1s_fair = np.array(read_f1_score(\"aws-fair-alloc-cat\"))\n",
    "\n",
    "# Process DDS\n",
    "dds_con, dds_fair, dds_10s = process_data(combinations_dds_inferDiff, f1s_dds_inferDiff, combinations_10s, f1s_10s, combinations_fair, f1s_fair)\n",
    "\n",
    "# Process AWStream\n",
    "# aws_con, aws_fair, aws_10s = process_data(combinations_aws_inferDiff, f1s_aws_inferDiff, combinations_aws_10s, f1s_aws_10s, combinations_aws_fair, f1s_aws_fair)\n",
    "\n",
    "plt.rcParams.update({'font.size': 8})\n",
    "plt.rcParams['font.sans-serif'] = \"Arial\"\n",
    "_, axs = plt.subplots(figsize=(2, 1.2), sharey=True)\n",
    "colors = ['#00FFFF', 'orange', 'tab:purple']\n",
    "bandwidth = [f\"{i}\" for i in range(900, 1500, 150)]\n",
    "# bandwidth = [f\"{i}\" for i in [3000, 4500, 5400, 6000]]\n",
    "# bandwidth = [str(i) for i in [1500, 3000, 4500, 5400]]\n",
    "X_axis = np.arange(len(bandwidth))\n",
    "inferDiffDict_bw = dds_con\n",
    "first10sDict_bw = dds_10s\n",
    "fairAllocDict_bw = dds_fair\n",
    "axs.bar(X_axis - 0.25, fairAllocDict_bw.values(), 0.25, color=colors[2], label = 'FairAlloc', hatch=['\\\\\\\\','\\\\\\\\','\\\\\\\\','\\\\\\\\'], edgecolor='k')\n",
    "axs.bar(X_axis, first10sDict_bw.values(), 0.25, color=colors[1], label = 'VideoStorm', hatch=['//','//','//','//'], edgecolor='k')\n",
    "axs.bar(X_axis + 0.25, inferDiffDict_bw.values(), 0.25, color=colors[0], label = 'Concierge', hatch=['xx','xx','xx','xx'], edgecolor='k')\n",
    "axs.set_xticks(X_axis, bandwidth)\n",
    "axs.set_xlabel(\"Total Bandwidth (Kbps)\")\n",
    "axs.set_ylabel(\"Average F1 Score\")\n",
    "plt.ylim([0.4, 0.7])\n",
    "plt.legend(loc=\"upper right\", bbox_to_anchor=(1.25, 1.35),ncol=3,frameon=False, handlelength=1.5, columnspacing=1, handletextpad=0.2)\n",
    "plt.savefig(\"concierge-perf.pdf\", bbox_inches='tight')\n",
    "plt.show()"
   ]
  },
  {
   "cell_type": "code",
   "execution_count": 7,
   "id": "bc08b2fb",
   "metadata": {},
   "outputs": [
    {
     "name": "stdout",
     "output_type": "stream",
     "text": [
      "0.09566340256106731\n",
      "0.06361642118458173\n"
     ]
    }
   ],
   "source": [
    "print((dds_con[\"900\"] - dds_fair[\"900\"]) / dds_fair[\"900\"])\n",
    "print((dds_con[\"900\"] - dds_10s[\"900\"]) / dds_10s[\"900\"])"
   ]
  },
  {
   "cell_type": "code",
   "execution_count": 8,
   "id": "8f87d976",
   "metadata": {},
   "outputs": [
    {
     "data": {
      "text/plain": [
       "{'900': 0.5162777777777778,\n",
       " '1050': 0.5624444444444444,\n",
       " '1200': 0.5948333333333333,\n",
       " '1350': 0.6352777777777778}"
      ]
     },
     "execution_count": 8,
     "metadata": {},
     "output_type": "execute_result"
    }
   ],
   "source": [
    "dds_fair"
   ]
  },
  {
   "cell_type": "code",
   "execution_count": 9,
   "id": "3815f99a",
   "metadata": {},
   "outputs": [
    {
     "data": {
      "text/plain": [
       "{'900': 0.5318333333333333,\n",
       " '1050': 0.5843888888888888,\n",
       " '1200': 0.5997777777777777,\n",
       " '1350': 0.6318333333333334}"
      ]
     },
     "execution_count": 9,
     "metadata": {},
     "output_type": "execute_result"
    }
   ],
   "source": [
    "dds_10s"
   ]
  },
  {
   "cell_type": "code",
   "execution_count": 10,
   "id": "4d62f003",
   "metadata": {},
   "outputs": [
    {
     "data": {
      "text/plain": [
       "{'900': 0.5656666666666667,\n",
       " '1050': 0.5893888888888889,\n",
       " '1200': 0.6092777777777778,\n",
       " '1350': 0.6581111111111111}"
      ]
     },
     "execution_count": 10,
     "metadata": {},
     "output_type": "execute_result"
    }
   ],
   "source": [
    "dds_con"
   ]
  },
  {
   "cell_type": "code",
   "execution_count": null,
   "id": "b2371f37",
   "metadata": {},
   "outputs": [],
   "source": []
  }
 ],
 "metadata": {
  "kernelspec": {
   "display_name": "Python 3 (ipykernel)",
   "language": "python",
   "name": "python3"
  },
  "language_info": {
   "codemirror_mode": {
    "name": "ipython",
    "version": 3
   },
   "file_extension": ".py",
   "mimetype": "text/x-python",
   "name": "python",
   "nbconvert_exporter": "python",
   "pygments_lexer": "ipython3",
   "version": "3.8.15"
  }
 },
 "nbformat": 4,
 "nbformat_minor": 5
}
